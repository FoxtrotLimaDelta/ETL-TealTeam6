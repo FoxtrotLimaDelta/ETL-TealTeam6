{
 "cells": [
  {
   "cell_type": "code",
   "execution_count": null,
   "metadata": {},
   "outputs": [],
   "source": [
    "#Dependencies\n",
    "from splinter import Browser\n",
    "from splinter.exceptions import ElementDoesNotExist\n",
    "from bs4 import BeautifulSoup\n",
    "import time\n",
    "import pymongo\n",
    "conn = 'mongodb://localhost:27017'\n",
    "client = pymongo.MongoClient(conn) \n",
    "db = client.goodreads_db\n",
    "collection = db.items"
   ]
  },
  {
   "cell_type": "code",
   "execution_count": null,
   "metadata": {},
   "outputs": [],
   "source": [
    "import json\n",
    "from ibm_watson import ToneAnalyzerV3\n",
    "from ibm_cloud_sdk_core.authenticators import IAMAuthenticator\n",
    "\n",
    "authenticator = IAMAuthenticator('hYXUmMhIZHj11RqZ0B4ltxyIlp5VrpGof7WNbPHiiVH0')\n",
    "tone_analyzer = ToneAnalyzerV3(\n",
    "    version='2017-09-21',\n",
    "    authenticator=authenticator\n",
    ")\n",
    "\n",
    "tone_analyzer.set_service_url('https://api.us-south.tone-analyzer.watson.cloud.ibm.com/instances/3a2563d5-be5b-44db-a536-84cb59e18ead')"
   ]
  },
  {
   "cell_type": "code",
   "execution_count": null,
   "metadata": {},
   "outputs": [],
   "source": [
    "executable_path = {'executable_path': 'chromedriver.exe'}\n",
    "browser = Browser('chrome', **executable_path, headless=False)"
   ]
  },
  {
   "cell_type": "code",
   "execution_count": null,
   "metadata": {},
   "outputs": [],
   "source": [
    "url = 'https://www.goodreads.com/genres/most_read/childrens'\n",
    "browser.visit(url)\n",
    "html = browser.html\n",
    "soup = BeautifulSoup(html, 'html.parser')\n"
   ]
  },
  {
   "cell_type": "code",
   "execution_count": null,
   "metadata": {},
   "outputs": [],
   "source": [
    "book_boxes = soup.find_all('div', class_=\"leftAlignedImage bookBox\")\n",
    "links = []\n",
    "\n",
    "for box in book_boxes:\n",
    "    \n",
    "    link = box.find('a', href=True)['href']\n",
    "    links.append('https://www.goodreads.com' + link)"
   ]
  },
  {
   "cell_type": "code",
   "execution_count": null,
   "metadata": {},
   "outputs": [],
   "source": [
    "'''\n",
    "for link in links:\n",
    "    browser.visit(link)\n",
    "    time.sleep(2)\n",
    "    \n",
    "    results = soup.find_all('span')\n",
    "    \n",
    "    print(results)\n",
    "    \n",
    "    \n",
    "    for result in results:\n",
    "        try:\n",
    "            review = result.find('span').text\n",
    "            print(review)\n",
    "        except:\n",
    "            print(\"N/A\")\n",
    "    \n",
    "    browser.back()\n",
    "    time.sleep(2)\n",
    "\n",
    "'''"
   ]
  },
  {
   "cell_type": "code",
   "execution_count": null,
   "metadata": {},
   "outputs": [],
   "source": [
    "import requests\n",
    "\n",
    "for link in links:\n",
    "    # Retrieve page with the requests module\n",
    "    response = requests.get(link)\n",
    "    # Create BeautifulSoup object; parse with 'lxml'\n",
    "    soup = BeautifulSoup(response.text, 'lxml')\n",
    "    \n",
    "    title = soup.find('h1', id=\"bookTitle\").text\n",
    "    \n",
    "    author = soup.find('a', class_='authorName').text\n",
    "    \n",
    "    results = soup.find_all('div', class_='review')\n",
    "\n",
    "    for result in results:\n",
    "        try:\n",
    "            rating = result.find('span', class_='staticStars notranslate')['title']\n",
    "            \n",
    "            review = result.find('span',class_=\"readable\").text\n",
    "            \n",
    "            tone_analysis = tone_analyzer.tone(\n",
    "                                                {'text': review},\n",
    "                                                content_type='text/plain',\n",
    "                                                sentences = False).get_result()\n",
    "            \n",
    "            tone1 = tone_analysis[\"document_tone\"][\"tones\"][0][\"tone_name\"]\n",
    "            \n",
    "            tone2 = tone_analysis[\"document_tone\"][\"tones\"][0][\"tone_name\"]\n",
    "            \n",
    "            if (rating and review and tone_analysis and tone1 and tone2):\n",
    "                \n",
    "            \n",
    "                print(title)\n",
    "                print(author)\n",
    "                print(rating)\n",
    "                print(review)\n",
    "                print(tone1)\n",
    "                print(tone2)\n",
    "                \n",
    "                post = {\n",
    "                    'rating': rating,\n",
    "                    'review': review,\n",
    "                    'tone_analysis': tone_analysis,\n",
    "                    'tone1': tone1,\n",
    "                    'tone2': tone2\n",
    "                }\n",
    "                \n",
    "                collection.insert_one(post)\n",
    "\n",
    "        except Exception as e:\n",
    "            print(\"N/A\")\n",
    "    break"
   ]
  },
  {
   "cell_type": "code",
   "execution_count": null,
   "metadata": {},
   "outputs": [],
   "source": []
  },
  {
   "cell_type": "code",
   "execution_count": null,
   "metadata": {},
   "outputs": [],
   "source": []
  },
  {
   "cell_type": "code",
   "execution_count": null,
   "metadata": {},
   "outputs": [],
   "source": []
  },
  {
   "cell_type": "code",
   "execution_count": null,
   "metadata": {},
   "outputs": [],
   "source": []
  },
  {
   "cell_type": "code",
   "execution_count": null,
   "metadata": {},
   "outputs": [],
   "source": []
  }
 ],
 "metadata": {
  "kernelspec": {
   "display_name": "Python 3",
   "language": "python",
   "name": "python3"
  },
  "language_info": {
   "codemirror_mode": {
    "name": "ipython",
    "version": 3
   },
   "file_extension": ".py",
   "mimetype": "text/x-python",
   "name": "python",
   "nbconvert_exporter": "python",
   "pygments_lexer": "ipython3",
   "version": "3.6.10"
  }
 },
 "nbformat": 4,
 "nbformat_minor": 4
}
