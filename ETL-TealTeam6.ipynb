{
 "cells": [
  {
   "cell_type": "code",
   "execution_count": null,
   "metadata": {},
   "outputs": [],
   "source": [
    "# Dependencies\n",
    "from bs4 import BeautifulSoup\n",
    "import requests\n",
    "import pymongo"
   ]
  },
  {
   "cell_type": "code",
   "execution_count": null,
   "metadata": {},
   "outputs": [],
   "source": [
    "# Initialize PyMongo to work with MongoDBs\n",
    "conn = 'mongodb://localhost:27017'\n",
    "client = pymongo.MongoClient(conn)"
   ]
  },
  {
   "cell_type": "code",
   "execution_count": null,
   "metadata": {},
   "outputs": [],
   "source": [
    "# Define database and collection\n",
    "db = client.nhl_db\n",
    "collection = db.articles"
   ]
  },
  {
   "cell_type": "code",
   "execution_count": null,
   "metadata": {},
   "outputs": [],
   "source": [
    "# URL of page to be scraped\n",
    "url = 'https://www.nhl.com/news'\n",
    "\n",
    "# Retrieve page with the requests module\n",
    "response = requests.get(url)\n",
    "# Create BeautifulSoup object; parse with 'lxml'\n",
    "soup = BeautifulSoup(response.text, 'lxml')"
   ]
  },
  {
   "cell_type": "code",
   "execution_count": null,
   "metadata": {},
   "outputs": [],
   "source": [
    "# Retrieve the parent divs for all articles\n",
    "results = soup.find_all('div', class_='article-item__top')\n",
    "\n",
    "# loop over results to get article data\n",
    "for result in results:\n",
    "    # scrape the article header \n",
    "    header = result.find('h1', class_='article-item__headline').text\n",
    "    \n",
    "    # scrape the article subheader\n",
    "    subheader = result.find('h2', class_='article-item__subheader').text\n",
    "    \n",
    "    # scrape the datetime\n",
    "    datetime = result.find('span', class_='article-item__date')['data-date'] \n",
    "    \n",
    "    # get only the date from the datetime\n",
    "    date = datetime.split('T')[0]\n",
    "    \n",
    "    # print article data\n",
    "    print('-----------------')\n",
    "    print(header)\n",
    "    print(subheader)\n",
    "    print(date)\n",
    "\n",
    "    # Dictionary to be inserted into MongoDB\n",
    "    post = {\n",
    "        'header': header,\n",
    "        'subheader': subheader,\n",
    "        'date': date,\n",
    "    }\n",
    "\n",
    "    # Insert dictionary into MongoDB as a document\n",
    "    collection.insert_one(post)"
   ]
  },
  {
   "cell_type": "code",
   "execution_count": null,
   "metadata": {},
   "outputs": [],
   "source": [
    "# Display the MongoDB records created above\n",
    "articles = db.articles.find()\n",
    "for article in articles:\n",
    "    print(article)"
   ]
  },
  {
   "cell_type": "code",
   "execution_count": null,
   "metadata": {},
   "outputs": [],
   "source": []
  },
  {
   "cell_type": "code",
   "execution_count": null,
   "metadata": {},
   "outputs": [],
   "source": [
    "#Store results in a database\n",
    "# * Start up a new database by switching to it. The db does not exist until you create a collection\n",
    "# book_review_db\n",
    "#  * Show the current db by running db\n",
    "# db\n",
    "# * Show current databases in existence\n",
    "# show dbs\n",
    "# * Create a collection\n",
    "# db.createCollection(\"children’s_books\")\n",
    "# * See all collections in a database\n",
    "# show collections\n",
    "# * Insert data into the book_reviews_db database with this command THIS MAY BE WHERE WE NEED TO APPLY A FOR LOOP to append?\n",
    "# - NOTE: This will also create the collection automatically, the contents of the insert are basically a JavaScript object, and include an array. This is the example data. Not sure how to enter ours yet.\n",
    "# db.destinations.insert({\"continent\": \"Africa\", \"country\": \"Morocco\",\n",
    "#                         \"major_cities\": [\"Casablanca\", \"Fez\", \"Marrakech\"]})\n"
   ]
  },
  {
   "cell_type": "code",
   "execution_count": null,
   "metadata": {},
   "outputs": [],
   "source": []
  },
  {
   "cell_type": "code",
   "execution_count": null,
   "metadata": {},
   "outputs": [],
   "source": []
  },
  {
   "cell_type": "code",
   "execution_count": null,
   "metadata": {},
   "outputs": [],
   "source": [
    "booksWithReviews = {\"bookname1\":[\"review 1\", \"review 2\"],\n",
    "                    \"bookname2\":[\"review 1b\", \"review 2b]\"}"
   ]
  },
  {
   "cell_type": "code",
   "execution_count": null,
   "metadata": {},
   "outputs": [],
   "source": [
    "booksWithReviews"
   ]
  },
  {
   "cell_type": "code",
   "execution_count": null,
   "metadata": {},
   "outputs": [],
   "source": [
    "#append a review to bookname1\n",
    "booksWithReviews[\"bookname1\"].append(\"review 3\")"
   ]
  },
  {
   "cell_type": "code",
   "execution_count": null,
   "metadata": {},
   "outputs": [],
   "source": [
    "booksWithReviews"
   ]
  },
  {
   "cell_type": "code",
   "execution_count": null,
   "metadata": {},
   "outputs": [],
   "source": [
    "#append booknames with initialized list for reviews\n",
    "books = [\"a\", \"b\", \"c\", \"d\"]\n",
    "\n",
    "for book in books:\n",
    "    booksWithReviews.update({book : []})"
   ]
  },
  {
   "cell_type": "code",
   "execution_count": null,
   "metadata": {},
   "outputs": [],
   "source": [
    "booksWithReviews"
   ]
  },
  {
   "cell_type": "code",
   "execution_count": null,
   "metadata": {},
   "outputs": [],
   "source": [
    "bookReviews ={}\n",
    "books = [\"a\", \"b\", \"c\", \"d\"]\n",
    "reviews = [[\"r1a\", \"r2a\", \"r3a\"][\"r1b\", \"r2b\", \"r3b\"][\"r1c\", \"r2c\", \"r3c\", \"r4c\"],[\"r1d\", \"r2d\", \"r3d\", \"r4d\"]]\n",
    "\n",
    "for i in range(len(books));\n",
    "    bookReviews[books[i]] = reviews[i]"
   ]
  },
  {
   "cell_type": "code",
   "execution_count": null,
   "metadata": {},
   "outputs": [],
   "source": [
    "bookReviews"
   ]
  },
  {
   "cell_type": "code",
   "execution_count": null,
   "metadata": {},
   "outputs": [],
   "source": []
  },
  {
   "cell_type": "code",
   "execution_count": null,
   "metadata": {},
   "outputs": [],
   "source": []
  },
  {
   "cell_type": "code",
   "execution_count": null,
   "metadata": {},
   "outputs": [],
   "source": [
    "#Insert Tone Analyzer to test data (https://tone-analyzer-demo.ng.bluemix.net/)"
   ]
  },
  {
   "cell_type": "code",
   "execution_count": null,
   "metadata": {},
   "outputs": [],
   "source": []
  },
  {
   "cell_type": "code",
   "execution_count": null,
   "metadata": {},
   "outputs": [],
   "source": []
  },
  {
   "cell_type": "code",
   "execution_count": null,
   "metadata": {},
   "outputs": [],
   "source": [
    "from flask import Flask, jsonify\n",
    "import datetime as dt"
   ]
  },
  {
   "cell_type": "code",
   "execution_count": null,
   "metadata": {},
   "outputs": [],
   "source": [
    "# Flask Setup\n",
    "app = Flask(__name__)"
   ]
  },
  {
   "cell_type": "code",
   "execution_count": null,
   "metadata": {},
   "outputs": [],
   "source": [
    "@app.route(\"/\")\n",
    "def welcome():\n",
    "    \n",
    "    \"\"\"List all available API routes.\"\"\"\n",
    "    \n",
    "    return (\n",
    "        f\"Available Routes:<br/>\"\n",
    "        f\"/api/v1.0/about<br/>\"\n",
    "        f\"/api/v1.0/__________<br/>\"\n",
    "        f\"/api/v1.0/__________<br/>\"\n",
    "        f\"/api/v1.0/___________<br/>\"\n",
    "        f\"/api/v1.0/__________<br/>\"\n",
    "        f\"/api/v1.0/__________<br/>\"\n",
    "        f\"/api/v1.0/contact\"\n",
    "    )"
   ]
  },
  {
   "cell_type": "code",
   "execution_count": null,
   "metadata": {},
   "outputs": [],
   "source": [
    "@app.route(\"/api/v1.0/about\")\n",
    "\n",
    "def about():\n",
    "   name = \"Legit Literacy LLC\"\n",
    "   location = \"Arizona\"\n",
    "   \n",
    "   return f\"We are {name} and we are located in sunny {location}.\""
   ]
  },
  {
   "cell_type": "code",
   "execution_count": null,
   "metadata": {},
   "outputs": [],
   "source": [
    "#If we choose to scrape a site:\n",
    "\n",
    "# @app.route(\"/scrape\")\n",
    "# def scraper():\n",
    "#     listings = mongo.db.listings\n",
    "#     listings_data = scrape_craigslist.scrape()\n",
    "#     listings.update({}, listings_data, upsert=True)\n",
    "#     return redirect(\"/\", code=302)\n"
   ]
  },
  {
   "cell_type": "code",
   "execution_count": null,
   "metadata": {},
   "outputs": [],
   "source": [
    "@app.route(\"/api/v1.0/contact\")\n",
    "def contact():\n",
    "   email = \"llllcsupport@gmail.com\"\n",
    "     \n",
    "   return f\"Questions, Comments, Complaints? Send an email to {email}.\""
   ]
  },
  {
   "cell_type": "code",
   "execution_count": null,
   "metadata": {},
   "outputs": [],
   "source": [
    "if __name__ == \"__main__\":\n",
    "    \n",
    " app.run(debug=True)"
   ]
  },
  {
   "cell_type": "code",
   "execution_count": null,
   "metadata": {},
   "outputs": [],
   "source": []
  },
  {
   "cell_type": "code",
   "execution_count": null,
   "metadata": {},
   "outputs": [],
   "source": []
  },
  {
   "cell_type": "code",
   "execution_count": null,
   "metadata": {},
   "outputs": [],
   "source": []
  }
 ],
 "metadata": {
  "kernelspec": {
   "display_name": "Python 3",
   "language": "python",
   "name": "python3"
  },
  "language_info": {
   "codemirror_mode": {
    "name": "ipython",
    "version": 3
   },
   "file_extension": ".py",
   "mimetype": "text/x-python",
   "name": "python",
   "nbconvert_exporter": "python",
   "pygments_lexer": "ipython3",
   "version": "3.7.6"
  }
 },
 "nbformat": 4,
 "nbformat_minor": 4
}
